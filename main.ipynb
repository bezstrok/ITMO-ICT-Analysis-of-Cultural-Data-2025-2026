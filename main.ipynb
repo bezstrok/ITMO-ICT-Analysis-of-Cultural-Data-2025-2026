{
 "cells": [
  {
   "metadata": {
    "ExecuteTime": {
     "end_time": "2025-05-07T14:25:32.212118Z",
     "start_time": "2025-05-07T14:25:31.884046Z"
    }
   },
   "cell_type": "code",
   "source": [
    "import kagglehub\n",
    "import matplotlib.pyplot as plt\n",
    "import numpy as np\n",
    "import pandas as pd\n",
    "import seaborn as sns\n",
    "import statsmodels.api as sm\n",
    "from factor_analyzer import FactorAnalyzer\n",
    "from sklearn.cluster import KMeans\n",
    "from sklearn.ensemble import RandomForestClassifier\n",
    "from sklearn.ensemble import RandomForestRegressor\n",
    "from sklearn.linear_model import LogisticRegression\n",
    "from sklearn.metrics import (\n",
    "    accuracy_score, precision_score, recall_score, f1_score,\n",
    "    roc_auc_score, confusion_matrix, classification_report, RocCurveDisplay,\n",
    ")\n",
    "from sklearn.metrics import r2_score, mean_squared_error\n",
    "from sklearn.model_selection import cross_val_score, StratifiedKFold\n",
    "from sklearn.model_selection import train_test_split\n",
    "from sklearn.preprocessing import LabelEncoder, StandardScaler\n",
    "from sklearn.tree import DecisionTreeClassifier"
   ],
   "id": "f366cdaa3ae69f64",
   "outputs": [],
   "execution_count": 1
  },
  {
   "metadata": {
    "ExecuteTime": {
     "end_time": "2025-05-07T14:25:32.859311Z",
     "start_time": "2025-05-07T14:25:32.292176Z"
    }
   },
   "cell_type": "code",
   "source": [
    "df_women: pd.DataFrame = kagglehub.dataset_load(\n",
    "    kagglehub.KaggleDatasetAdapter.PANDAS,\n",
    "    \"babyoda/women-entrepreneurship-and-labor-force\",\n",
    "    \"Dataset3.csv\",\n",
    "    pandas_kwargs={\n",
    "        \"sep\": \";\",\n",
    "    }\n",
    ")"
   ],
   "id": "f3571199f3d96488",
   "outputs": [],
   "execution_count": 2
  },
  {
   "metadata": {
    "ExecuteTime": {
     "end_time": "2025-05-07T14:25:33.282523Z",
     "start_time": "2025-05-07T14:25:32.877268Z"
    }
   },
   "cell_type": "code",
   "source": [
    "df_students: pd.DataFrame = kagglehub.dataset_load(\n",
    "    kagglehub.KaggleDatasetAdapter.PANDAS,\n",
    "    \"namanmanchanda/entrepreneurial-competency-in-university-students\",\n",
    "    \"data.csv\",\n",
    ")"
   ],
   "id": "b5628ab6626a1649",
   "outputs": [],
   "execution_count": 3
  },
  {
   "metadata": {
    "ExecuteTime": {
     "end_time": "2025-05-07T14:25:33.303327Z",
     "start_time": "2025-05-07T14:25:33.293046Z"
    }
   },
   "cell_type": "code",
   "source": "df_women.head(5)",
   "id": "1e49e9594c7e7d89",
   "outputs": [
    {
     "data": {
      "text/plain": [
       "   No  Country Level of development European Union Membership Currency  \\\n",
       "0   4  Austria            Developed                    Member     Euro   \n",
       "1   6  Belgium            Developed                    Member     Euro   \n",
       "2  17  Estonia            Developed                    Member     Euro   \n",
       "3  18  Finland            Developed                    Member     Euro   \n",
       "4  19   France            Developed                    Member     Euro   \n",
       "\n",
       "   Women Entrepreneurship Index  Entrepreneurship Index  Inflation rate  \\\n",
       "0                          54.9                    64.9            0.90   \n",
       "1                          63.6                    65.5            0.60   \n",
       "2                          55.4                    60.2           -0.88   \n",
       "3                          66.4                    65.7           -0.20   \n",
       "4                          68.8                    67.3            0.00   \n",
       "\n",
       "   Female Labor Force Participation Rate  \n",
       "0                                   67.1  \n",
       "1                                   58.0  \n",
       "2                                   68.5  \n",
       "3                                   67.7  \n",
       "4                                   60.6  "
      ],
      "text/html": [
       "<div>\n",
       "<style scoped>\n",
       "    .dataframe tbody tr th:only-of-type {\n",
       "        vertical-align: middle;\n",
       "    }\n",
       "\n",
       "    .dataframe tbody tr th {\n",
       "        vertical-align: top;\n",
       "    }\n",
       "\n",
       "    .dataframe thead th {\n",
       "        text-align: right;\n",
       "    }\n",
       "</style>\n",
       "<table border=\"1\" class=\"dataframe\">\n",
       "  <thead>\n",
       "    <tr style=\"text-align: right;\">\n",
       "      <th></th>\n",
       "      <th>No</th>\n",
       "      <th>Country</th>\n",
       "      <th>Level of development</th>\n",
       "      <th>European Union Membership</th>\n",
       "      <th>Currency</th>\n",
       "      <th>Women Entrepreneurship Index</th>\n",
       "      <th>Entrepreneurship Index</th>\n",
       "      <th>Inflation rate</th>\n",
       "      <th>Female Labor Force Participation Rate</th>\n",
       "    </tr>\n",
       "  </thead>\n",
       "  <tbody>\n",
       "    <tr>\n",
       "      <th>0</th>\n",
       "      <td>4</td>\n",
       "      <td>Austria</td>\n",
       "      <td>Developed</td>\n",
       "      <td>Member</td>\n",
       "      <td>Euro</td>\n",
       "      <td>54.9</td>\n",
       "      <td>64.9</td>\n",
       "      <td>0.90</td>\n",
       "      <td>67.1</td>\n",
       "    </tr>\n",
       "    <tr>\n",
       "      <th>1</th>\n",
       "      <td>6</td>\n",
       "      <td>Belgium</td>\n",
       "      <td>Developed</td>\n",
       "      <td>Member</td>\n",
       "      <td>Euro</td>\n",
       "      <td>63.6</td>\n",
       "      <td>65.5</td>\n",
       "      <td>0.60</td>\n",
       "      <td>58.0</td>\n",
       "    </tr>\n",
       "    <tr>\n",
       "      <th>2</th>\n",
       "      <td>17</td>\n",
       "      <td>Estonia</td>\n",
       "      <td>Developed</td>\n",
       "      <td>Member</td>\n",
       "      <td>Euro</td>\n",
       "      <td>55.4</td>\n",
       "      <td>60.2</td>\n",
       "      <td>-0.88</td>\n",
       "      <td>68.5</td>\n",
       "    </tr>\n",
       "    <tr>\n",
       "      <th>3</th>\n",
       "      <td>18</td>\n",
       "      <td>Finland</td>\n",
       "      <td>Developed</td>\n",
       "      <td>Member</td>\n",
       "      <td>Euro</td>\n",
       "      <td>66.4</td>\n",
       "      <td>65.7</td>\n",
       "      <td>-0.20</td>\n",
       "      <td>67.7</td>\n",
       "    </tr>\n",
       "    <tr>\n",
       "      <th>4</th>\n",
       "      <td>19</td>\n",
       "      <td>France</td>\n",
       "      <td>Developed</td>\n",
       "      <td>Member</td>\n",
       "      <td>Euro</td>\n",
       "      <td>68.8</td>\n",
       "      <td>67.3</td>\n",
       "      <td>0.00</td>\n",
       "      <td>60.6</td>\n",
       "    </tr>\n",
       "  </tbody>\n",
       "</table>\n",
       "</div>"
      ]
     },
     "execution_count": 4,
     "metadata": {},
     "output_type": "execute_result"
    }
   ],
   "execution_count": 4
  },
  {
   "metadata": {
    "ExecuteTime": {
     "end_time": "2025-05-07T14:25:33.334980Z",
     "start_time": "2025-05-07T14:25:33.329485Z"
    }
   },
   "cell_type": "code",
   "source": "df_students.head(5)",
   "id": "836b88de2a2a26eb",
   "outputs": [
    {
     "data": {
      "text/plain": [
       "        EducationSector IndividualProject  Age Gender City Influenced  \\\n",
       "0  Engineering Sciences                No   19   Male  Yes         No   \n",
       "1  Engineering Sciences               Yes   22   Male   No        Yes   \n",
       "2  Engineering Sciences                No   18   Male  Yes         No   \n",
       "3  Engineering Sciences               Yes   20   Male  Yes        Yes   \n",
       "4  Engineering Sciences               Yes   19   Male  Yes        Yes   \n",
       "\n",
       "   Perseverance  DesireToTakeInitiative  Competitiveness  SelfReliance  \\\n",
       "0             2                       2                3             3   \n",
       "1             3                       3                3             4   \n",
       "2             3                       4                3             3   \n",
       "3             3                       3                3             3   \n",
       "4             2                       3                3             3   \n",
       "\n",
       "   StrongNeedToAchieve  SelfConfidence  GoodPhysicalHealth MentalDisorder  \\\n",
       "0                    2               2                   3            Yes   \n",
       "1                    4               3                   4            Yes   \n",
       "2                    3               4                   4             No   \n",
       "3                    4               3                   3             No   \n",
       "4                    4               3                   2            Yes   \n",
       "\n",
       "    KeyTraits                                     ReasonsForLack  y  \n",
       "0     Passion                                                NaN  1  \n",
       "1      Vision  Just not interested! (Want to work in the corp...  0  \n",
       "2     Passion  Not willing to start a venture in India and wa...  0  \n",
       "3  Resilience                  Not able to take a Financial Risk  0  \n",
       "4      Vision                                                NaN  1  "
      ],
      "text/html": [
       "<div>\n",
       "<style scoped>\n",
       "    .dataframe tbody tr th:only-of-type {\n",
       "        vertical-align: middle;\n",
       "    }\n",
       "\n",
       "    .dataframe tbody tr th {\n",
       "        vertical-align: top;\n",
       "    }\n",
       "\n",
       "    .dataframe thead th {\n",
       "        text-align: right;\n",
       "    }\n",
       "</style>\n",
       "<table border=\"1\" class=\"dataframe\">\n",
       "  <thead>\n",
       "    <tr style=\"text-align: right;\">\n",
       "      <th></th>\n",
       "      <th>EducationSector</th>\n",
       "      <th>IndividualProject</th>\n",
       "      <th>Age</th>\n",
       "      <th>Gender</th>\n",
       "      <th>City</th>\n",
       "      <th>Influenced</th>\n",
       "      <th>Perseverance</th>\n",
       "      <th>DesireToTakeInitiative</th>\n",
       "      <th>Competitiveness</th>\n",
       "      <th>SelfReliance</th>\n",
       "      <th>StrongNeedToAchieve</th>\n",
       "      <th>SelfConfidence</th>\n",
       "      <th>GoodPhysicalHealth</th>\n",
       "      <th>MentalDisorder</th>\n",
       "      <th>KeyTraits</th>\n",
       "      <th>ReasonsForLack</th>\n",
       "      <th>y</th>\n",
       "    </tr>\n",
       "  </thead>\n",
       "  <tbody>\n",
       "    <tr>\n",
       "      <th>0</th>\n",
       "      <td>Engineering Sciences</td>\n",
       "      <td>No</td>\n",
       "      <td>19</td>\n",
       "      <td>Male</td>\n",
       "      <td>Yes</td>\n",
       "      <td>No</td>\n",
       "      <td>2</td>\n",
       "      <td>2</td>\n",
       "      <td>3</td>\n",
       "      <td>3</td>\n",
       "      <td>2</td>\n",
       "      <td>2</td>\n",
       "      <td>3</td>\n",
       "      <td>Yes</td>\n",
       "      <td>Passion</td>\n",
       "      <td>NaN</td>\n",
       "      <td>1</td>\n",
       "    </tr>\n",
       "    <tr>\n",
       "      <th>1</th>\n",
       "      <td>Engineering Sciences</td>\n",
       "      <td>Yes</td>\n",
       "      <td>22</td>\n",
       "      <td>Male</td>\n",
       "      <td>No</td>\n",
       "      <td>Yes</td>\n",
       "      <td>3</td>\n",
       "      <td>3</td>\n",
       "      <td>3</td>\n",
       "      <td>4</td>\n",
       "      <td>4</td>\n",
       "      <td>3</td>\n",
       "      <td>4</td>\n",
       "      <td>Yes</td>\n",
       "      <td>Vision</td>\n",
       "      <td>Just not interested! (Want to work in the corp...</td>\n",
       "      <td>0</td>\n",
       "    </tr>\n",
       "    <tr>\n",
       "      <th>2</th>\n",
       "      <td>Engineering Sciences</td>\n",
       "      <td>No</td>\n",
       "      <td>18</td>\n",
       "      <td>Male</td>\n",
       "      <td>Yes</td>\n",
       "      <td>No</td>\n",
       "      <td>3</td>\n",
       "      <td>4</td>\n",
       "      <td>3</td>\n",
       "      <td>3</td>\n",
       "      <td>3</td>\n",
       "      <td>4</td>\n",
       "      <td>4</td>\n",
       "      <td>No</td>\n",
       "      <td>Passion</td>\n",
       "      <td>Not willing to start a venture in India and wa...</td>\n",
       "      <td>0</td>\n",
       "    </tr>\n",
       "    <tr>\n",
       "      <th>3</th>\n",
       "      <td>Engineering Sciences</td>\n",
       "      <td>Yes</td>\n",
       "      <td>20</td>\n",
       "      <td>Male</td>\n",
       "      <td>Yes</td>\n",
       "      <td>Yes</td>\n",
       "      <td>3</td>\n",
       "      <td>3</td>\n",
       "      <td>3</td>\n",
       "      <td>3</td>\n",
       "      <td>4</td>\n",
       "      <td>3</td>\n",
       "      <td>3</td>\n",
       "      <td>No</td>\n",
       "      <td>Resilience</td>\n",
       "      <td>Not able to take a Financial Risk</td>\n",
       "      <td>0</td>\n",
       "    </tr>\n",
       "    <tr>\n",
       "      <th>4</th>\n",
       "      <td>Engineering Sciences</td>\n",
       "      <td>Yes</td>\n",
       "      <td>19</td>\n",
       "      <td>Male</td>\n",
       "      <td>Yes</td>\n",
       "      <td>Yes</td>\n",
       "      <td>2</td>\n",
       "      <td>3</td>\n",
       "      <td>3</td>\n",
       "      <td>3</td>\n",
       "      <td>4</td>\n",
       "      <td>3</td>\n",
       "      <td>2</td>\n",
       "      <td>Yes</td>\n",
       "      <td>Vision</td>\n",
       "      <td>NaN</td>\n",
       "      <td>1</td>\n",
       "    </tr>\n",
       "  </tbody>\n",
       "</table>\n",
       "</div>"
      ]
     },
     "execution_count": 5,
     "metadata": {},
     "output_type": "execute_result"
    }
   ],
   "execution_count": 5
  },
  {
   "metadata": {
    "ExecuteTime": {
     "end_time": "2025-05-07T14:25:33.383799Z",
     "start_time": "2025-05-07T14:25:33.380075Z"
    }
   },
   "cell_type": "code",
   "source": "df_women.info()",
   "id": "cdd04b2f04dd79f1",
   "outputs": [
    {
     "name": "stdout",
     "output_type": "stream",
     "text": [
      "<class 'pandas.core.frame.DataFrame'>\n",
      "RangeIndex: 51 entries, 0 to 50\n",
      "Data columns (total 9 columns):\n",
      " #   Column                                 Non-Null Count  Dtype  \n",
      "---  ------                                 --------------  -----  \n",
      " 0   No                                     51 non-null     int64  \n",
      " 1   Country                                51 non-null     object \n",
      " 2   Level of development                   51 non-null     object \n",
      " 3   European Union Membership              51 non-null     object \n",
      " 4   Currency                               51 non-null     object \n",
      " 5   Women Entrepreneurship Index           51 non-null     float64\n",
      " 6   Entrepreneurship Index                 51 non-null     float64\n",
      " 7   Inflation rate                         51 non-null     float64\n",
      " 8   Female Labor Force Participation Rate  51 non-null     float64\n",
      "dtypes: float64(4), int64(1), object(4)\n",
      "memory usage: 3.7+ KB\n"
     ]
    }
   ],
   "execution_count": 6
  },
  {
   "metadata": {
    "ExecuteTime": {
     "end_time": "2025-05-07T14:25:33.452636Z",
     "start_time": "2025-05-07T14:25:33.448969Z"
    }
   },
   "cell_type": "code",
   "source": "df_students.info()",
   "id": "138e818edeeecbdd",
   "outputs": [
    {
     "name": "stdout",
     "output_type": "stream",
     "text": [
      "<class 'pandas.core.frame.DataFrame'>\n",
      "RangeIndex: 219 entries, 0 to 218\n",
      "Data columns (total 17 columns):\n",
      " #   Column                  Non-Null Count  Dtype \n",
      "---  ------                  --------------  ----- \n",
      " 0   EducationSector         219 non-null    object\n",
      " 1   IndividualProject       219 non-null    object\n",
      " 2   Age                     219 non-null    int64 \n",
      " 3   Gender                  219 non-null    object\n",
      " 4   City                    219 non-null    object\n",
      " 5   Influenced              219 non-null    object\n",
      " 6   Perseverance            219 non-null    int64 \n",
      " 7   DesireToTakeInitiative  219 non-null    int64 \n",
      " 8   Competitiveness         219 non-null    int64 \n",
      " 9   SelfReliance            219 non-null    int64 \n",
      " 10  StrongNeedToAchieve     219 non-null    int64 \n",
      " 11  SelfConfidence          219 non-null    int64 \n",
      " 12  GoodPhysicalHealth      219 non-null    int64 \n",
      " 13  MentalDisorder          219 non-null    object\n",
      " 14  KeyTraits               219 non-null    object\n",
      " 15  ReasonsForLack          128 non-null    object\n",
      " 16  y                       219 non-null    int64 \n",
      "dtypes: int64(9), object(8)\n",
      "memory usage: 29.2+ KB\n"
     ]
    }
   ],
   "execution_count": 7
  },
  {
   "metadata": {},
   "cell_type": "markdown",
   "source": "## Предобработка",
   "id": "8785cd7017b50978"
  },
  {
   "metadata": {},
   "cell_type": "markdown",
   "source": "### Women Entrepreneurship Index",
   "id": "724369a0bb2abc48"
  },
  {
   "metadata": {
    "ExecuteTime": {
     "end_time": "2025-05-07T14:25:33.481785Z",
     "start_time": "2025-05-07T14:25:33.480268Z"
    }
   },
   "cell_type": "code",
   "source": "df_women_processed = df_women.copy()",
   "id": "25e9088673df13a6",
   "outputs": [],
   "execution_count": 8
  },
  {
   "metadata": {
    "ExecuteTime": {
     "end_time": "2025-05-07T14:25:33.500601Z",
     "start_time": "2025-05-07T14:25:33.498426Z"
    }
   },
   "cell_type": "code",
   "source": "df_women_processed.drop(columns=['No', 'Currency', 'European Union Membership', ], inplace=True)",
   "id": "4fd3d82128d0942f",
   "outputs": [],
   "execution_count": 9
  },
  {
   "metadata": {
    "ExecuteTime": {
     "end_time": "2025-05-07T14:25:33.513219Z",
     "start_time": "2025-05-07T14:25:33.510668Z"
    }
   },
   "cell_type": "code",
   "source": "df_women_processed.isnull().sum()",
   "id": "53d4c969e6f2c0f9",
   "outputs": [
    {
     "data": {
      "text/plain": [
       "Country                                  0\n",
       "Level of development                     0\n",
       "Women Entrepreneurship Index             0\n",
       "Entrepreneurship Index                   0\n",
       "Inflation rate                           0\n",
       "Female Labor Force Participation Rate    0\n",
       "dtype: int64"
      ]
     },
     "execution_count": 10,
     "metadata": {},
     "output_type": "execute_result"
    }
   ],
   "execution_count": 10
  },
  {
   "metadata": {
    "ExecuteTime": {
     "end_time": "2025-05-07T14:25:33.540956Z",
     "start_time": "2025-05-07T14:25:33.538526Z"
    }
   },
   "cell_type": "code",
   "source": [
    "df_women_processed['Level_of_development_enc'] = LabelEncoder().fit_transform(df_women_processed['Level of development'])\n",
    "df_women_processed.drop(columns=['Level of development'], inplace=True)"
   ],
   "id": "54527c45721e57f3",
   "outputs": [],
   "execution_count": 11
  },
  {
   "metadata": {
    "ExecuteTime": {
     "end_time": "2025-05-07T14:25:33.573521Z",
     "start_time": "2025-05-07T14:25:33.571706Z"
    }
   },
   "cell_type": "code",
   "source": [
    "countries = df_women_processed['Country'].tolist()\n",
    "df_women_processed.drop(columns=['Country'], inplace=True)"
   ],
   "id": "7f9322fa167dfb07",
   "outputs": [],
   "execution_count": 12
  },
  {
   "metadata": {
    "ExecuteTime": {
     "end_time": "2025-05-07T14:25:33.604696Z",
     "start_time": "2025-05-07T14:25:33.601522Z"
    }
   },
   "cell_type": "code",
   "source": [
    "standard_scaler = StandardScaler()\n",
    "numeric_cols = [\n",
    "    'Women Entrepreneurship Index',\n",
    "    'Entrepreneurship Index',\n",
    "    'Inflation rate',\n",
    "    'Female Labor Force Participation Rate'\n",
    "]\n",
    "df_women_processed[numeric_cols] = standard_scaler.fit_transform(df_women_processed[numeric_cols])"
   ],
   "id": "b164acc3ffa8b935",
   "outputs": [],
   "execution_count": 13
  },
  {
   "metadata": {
    "ExecuteTime": {
     "end_time": "2025-05-07T14:25:33.631959Z",
     "start_time": "2025-05-07T14:25:33.628198Z"
    }
   },
   "cell_type": "code",
   "source": "df_women_processed.head(5)",
   "id": "8943b17c36152e5b",
   "outputs": [
    {
     "data": {
      "text/plain": [
       "   Women Entrepreneurship Index  Entrepreneurship Index  Inflation rate  \\\n",
       "0                      0.500053                1.101363       -0.316773   \n",
       "1                      1.115856                1.138785       -0.373083   \n",
       "2                      0.535444                0.808229       -0.650880   \n",
       "3                      1.314046                1.151258       -0.523244   \n",
       "4                      1.483922                1.251049       -0.485704   \n",
       "\n",
       "   Female Labor Force Participation Rate  Level_of_development_enc  \n",
       "0                               0.627787                         0  \n",
       "1                              -0.035094                         0  \n",
       "2                               0.729768                         0  \n",
       "3                               0.671493                         0  \n",
       "4                               0.154301                         0  "
      ],
      "text/html": [
       "<div>\n",
       "<style scoped>\n",
       "    .dataframe tbody tr th:only-of-type {\n",
       "        vertical-align: middle;\n",
       "    }\n",
       "\n",
       "    .dataframe tbody tr th {\n",
       "        vertical-align: top;\n",
       "    }\n",
       "\n",
       "    .dataframe thead th {\n",
       "        text-align: right;\n",
       "    }\n",
       "</style>\n",
       "<table border=\"1\" class=\"dataframe\">\n",
       "  <thead>\n",
       "    <tr style=\"text-align: right;\">\n",
       "      <th></th>\n",
       "      <th>Women Entrepreneurship Index</th>\n",
       "      <th>Entrepreneurship Index</th>\n",
       "      <th>Inflation rate</th>\n",
       "      <th>Female Labor Force Participation Rate</th>\n",
       "      <th>Level_of_development_enc</th>\n",
       "    </tr>\n",
       "  </thead>\n",
       "  <tbody>\n",
       "    <tr>\n",
       "      <th>0</th>\n",
       "      <td>0.500053</td>\n",
       "      <td>1.101363</td>\n",
       "      <td>-0.316773</td>\n",
       "      <td>0.627787</td>\n",
       "      <td>0</td>\n",
       "    </tr>\n",
       "    <tr>\n",
       "      <th>1</th>\n",
       "      <td>1.115856</td>\n",
       "      <td>1.138785</td>\n",
       "      <td>-0.373083</td>\n",
       "      <td>-0.035094</td>\n",
       "      <td>0</td>\n",
       "    </tr>\n",
       "    <tr>\n",
       "      <th>2</th>\n",
       "      <td>0.535444</td>\n",
       "      <td>0.808229</td>\n",
       "      <td>-0.650880</td>\n",
       "      <td>0.729768</td>\n",
       "      <td>0</td>\n",
       "    </tr>\n",
       "    <tr>\n",
       "      <th>3</th>\n",
       "      <td>1.314046</td>\n",
       "      <td>1.151258</td>\n",
       "      <td>-0.523244</td>\n",
       "      <td>0.671493</td>\n",
       "      <td>0</td>\n",
       "    </tr>\n",
       "    <tr>\n",
       "      <th>4</th>\n",
       "      <td>1.483922</td>\n",
       "      <td>1.251049</td>\n",
       "      <td>-0.485704</td>\n",
       "      <td>0.154301</td>\n",
       "      <td>0</td>\n",
       "    </tr>\n",
       "  </tbody>\n",
       "</table>\n",
       "</div>"
      ]
     },
     "execution_count": 14,
     "metadata": {},
     "output_type": "execute_result"
    }
   ],
   "execution_count": 14
  },
  {
   "metadata": {},
   "cell_type": "markdown",
   "source": "### Students Entrepreneurial Competency",
   "id": "505f3b678c663f6b"
  },
  {
   "metadata": {
    "ExecuteTime": {
     "end_time": "2025-05-07T14:25:33.662198Z",
     "start_time": "2025-05-07T14:25:33.660048Z"
    }
   },
   "cell_type": "code",
   "source": "df_students_processed = df_students.copy()",
   "id": "5b3c8faa4146351d",
   "outputs": [],
   "execution_count": 15
  },
  {
   "metadata": {
    "ExecuteTime": {
     "end_time": "2025-05-07T14:25:33.702731Z",
     "start_time": "2025-05-07T14:25:33.700762Z"
    }
   },
   "cell_type": "code",
   "source": "df_students_processed.drop(columns=['City', 'KeyTraits', 'ReasonsForLack', 'IndividualProject'], inplace=True)",
   "id": "4e275b28cdbed24",
   "outputs": [],
   "execution_count": 16
  },
  {
   "metadata": {
    "ExecuteTime": {
     "end_time": "2025-05-07T14:25:33.726152Z",
     "start_time": "2025-05-07T14:25:33.723488Z"
    }
   },
   "cell_type": "code",
   "source": "df_students_processed.isnull().sum()",
   "id": "4e2cdef6fba1ca37",
   "outputs": [
    {
     "data": {
      "text/plain": [
       "EducationSector           0\n",
       "Age                       0\n",
       "Gender                    0\n",
       "Influenced                0\n",
       "Perseverance              0\n",
       "DesireToTakeInitiative    0\n",
       "Competitiveness           0\n",
       "SelfReliance              0\n",
       "StrongNeedToAchieve       0\n",
       "SelfConfidence            0\n",
       "GoodPhysicalHealth        0\n",
       "MentalDisorder            0\n",
       "y                         0\n",
       "dtype: int64"
      ]
     },
     "execution_count": 17,
     "metadata": {},
     "output_type": "execute_result"
    }
   ],
   "execution_count": 17
  },
  {
   "metadata": {
    "ExecuteTime": {
     "end_time": "2025-05-07T14:25:33.757703Z",
     "start_time": "2025-05-07T14:25:33.755184Z"
    }
   },
   "cell_type": "code",
   "source": [
    "category_cols = ['EducationSector', 'Gender', 'Influenced', 'MentalDisorder']\n",
    "for col in category_cols:\n",
    "    df_students_processed[col] = LabelEncoder().fit_transform(df_students_processed[col])"
   ],
   "id": "85da02f4f9b98bb6",
   "outputs": [],
   "execution_count": 18
  },
  {
   "metadata": {
    "ExecuteTime": {
     "end_time": "2025-05-07T14:25:33.782685Z",
     "start_time": "2025-05-07T14:25:33.780596Z"
    }
   },
   "cell_type": "code",
   "source": "X, y = df_students_processed.drop(columns=['y']), df_students_processed['y']",
   "id": "c1f438f504e3ae79",
   "outputs": [],
   "execution_count": 19
  },
  {
   "metadata": {
    "ExecuteTime": {
     "end_time": "2025-05-07T14:25:33.814042Z",
     "start_time": "2025-05-07T14:25:33.810256Z"
    }
   },
   "cell_type": "code",
   "source": [
    "numeric_cols = [\n",
    "    'Age', 'Perseverance', 'DesireToTakeInitiative', 'Competitiveness',\n",
    "    'SelfReliance', 'StrongNeedToAchieve', 'SelfConfidence', 'GoodPhysicalHealth'\n",
    "]\n",
    "X[numeric_cols] = StandardScaler().fit_transform(X[numeric_cols])"
   ],
   "id": "3feff30c325bdf25",
   "outputs": [],
   "execution_count": 20
  },
  {
   "metadata": {
    "ExecuteTime": {
     "end_time": "2025-05-07T14:25:33.832597Z",
     "start_time": "2025-05-07T14:25:33.827197Z"
    }
   },
   "cell_type": "code",
   "source": "X.head(5)",
   "id": "59cbf72651ab9bbf",
   "outputs": [
    {
     "data": {
      "text/plain": [
       "   EducationSector       Age  Gender  Influenced  Perseverance  \\\n",
       "0                2 -0.585460       1           0     -1.361182   \n",
       "1                2  1.745735       1           1     -0.354091   \n",
       "2                2 -1.362525       1           0     -0.354091   \n",
       "3                2  0.191605       1           1     -0.354091   \n",
       "4                2 -0.585460       1           1     -1.361182   \n",
       "\n",
       "   DesireToTakeInitiative  Competitiveness  SelfReliance  StrongNeedToAchieve  \\\n",
       "0               -1.409774        -0.531472     -0.686308            -1.869914   \n",
       "1               -0.540082        -0.531472      0.264967             0.089470   \n",
       "2                0.329609        -0.531472     -0.686308            -0.890222   \n",
       "3               -0.540082        -0.531472     -0.686308             0.089470   \n",
       "4               -0.540082        -0.531472     -0.686308             0.089470   \n",
       "\n",
       "   SelfConfidence  GoodPhysicalHealth  MentalDisorder  \n",
       "0       -1.409655           -0.511621               1  \n",
       "1       -0.514831            0.399314               1  \n",
       "2        0.379994            0.399314               0  \n",
       "3       -0.514831           -0.511621               0  \n",
       "4       -0.514831           -1.422557               1  "
      ],
      "text/html": [
       "<div>\n",
       "<style scoped>\n",
       "    .dataframe tbody tr th:only-of-type {\n",
       "        vertical-align: middle;\n",
       "    }\n",
       "\n",
       "    .dataframe tbody tr th {\n",
       "        vertical-align: top;\n",
       "    }\n",
       "\n",
       "    .dataframe thead th {\n",
       "        text-align: right;\n",
       "    }\n",
       "</style>\n",
       "<table border=\"1\" class=\"dataframe\">\n",
       "  <thead>\n",
       "    <tr style=\"text-align: right;\">\n",
       "      <th></th>\n",
       "      <th>EducationSector</th>\n",
       "      <th>Age</th>\n",
       "      <th>Gender</th>\n",
       "      <th>Influenced</th>\n",
       "      <th>Perseverance</th>\n",
       "      <th>DesireToTakeInitiative</th>\n",
       "      <th>Competitiveness</th>\n",
       "      <th>SelfReliance</th>\n",
       "      <th>StrongNeedToAchieve</th>\n",
       "      <th>SelfConfidence</th>\n",
       "      <th>GoodPhysicalHealth</th>\n",
       "      <th>MentalDisorder</th>\n",
       "    </tr>\n",
       "  </thead>\n",
       "  <tbody>\n",
       "    <tr>\n",
       "      <th>0</th>\n",
       "      <td>2</td>\n",
       "      <td>-0.585460</td>\n",
       "      <td>1</td>\n",
       "      <td>0</td>\n",
       "      <td>-1.361182</td>\n",
       "      <td>-1.409774</td>\n",
       "      <td>-0.531472</td>\n",
       "      <td>-0.686308</td>\n",
       "      <td>-1.869914</td>\n",
       "      <td>-1.409655</td>\n",
       "      <td>-0.511621</td>\n",
       "      <td>1</td>\n",
       "    </tr>\n",
       "    <tr>\n",
       "      <th>1</th>\n",
       "      <td>2</td>\n",
       "      <td>1.745735</td>\n",
       "      <td>1</td>\n",
       "      <td>1</td>\n",
       "      <td>-0.354091</td>\n",
       "      <td>-0.540082</td>\n",
       "      <td>-0.531472</td>\n",
       "      <td>0.264967</td>\n",
       "      <td>0.089470</td>\n",
       "      <td>-0.514831</td>\n",
       "      <td>0.399314</td>\n",
       "      <td>1</td>\n",
       "    </tr>\n",
       "    <tr>\n",
       "      <th>2</th>\n",
       "      <td>2</td>\n",
       "      <td>-1.362525</td>\n",
       "      <td>1</td>\n",
       "      <td>0</td>\n",
       "      <td>-0.354091</td>\n",
       "      <td>0.329609</td>\n",
       "      <td>-0.531472</td>\n",
       "      <td>-0.686308</td>\n",
       "      <td>-0.890222</td>\n",
       "      <td>0.379994</td>\n",
       "      <td>0.399314</td>\n",
       "      <td>0</td>\n",
       "    </tr>\n",
       "    <tr>\n",
       "      <th>3</th>\n",
       "      <td>2</td>\n",
       "      <td>0.191605</td>\n",
       "      <td>1</td>\n",
       "      <td>1</td>\n",
       "      <td>-0.354091</td>\n",
       "      <td>-0.540082</td>\n",
       "      <td>-0.531472</td>\n",
       "      <td>-0.686308</td>\n",
       "      <td>0.089470</td>\n",
       "      <td>-0.514831</td>\n",
       "      <td>-0.511621</td>\n",
       "      <td>0</td>\n",
       "    </tr>\n",
       "    <tr>\n",
       "      <th>4</th>\n",
       "      <td>2</td>\n",
       "      <td>-0.585460</td>\n",
       "      <td>1</td>\n",
       "      <td>1</td>\n",
       "      <td>-1.361182</td>\n",
       "      <td>-0.540082</td>\n",
       "      <td>-0.531472</td>\n",
       "      <td>-0.686308</td>\n",
       "      <td>0.089470</td>\n",
       "      <td>-0.514831</td>\n",
       "      <td>-1.422557</td>\n",
       "      <td>1</td>\n",
       "    </tr>\n",
       "  </tbody>\n",
       "</table>\n",
       "</div>"
      ]
     },
     "execution_count": 21,
     "metadata": {},
     "output_type": "execute_result"
    }
   ],
   "execution_count": 21
  },
  {
   "metadata": {},
   "cell_type": "markdown",
   "source": "## EDA",
   "id": "7b939abbff5d5c5e"
  },
  {
   "metadata": {
    "ExecuteTime": {
     "end_time": "2025-05-07T14:25:33.862793Z",
     "start_time": "2025-05-07T14:25:33.861303Z"
    }
   },
   "cell_type": "code",
   "source": [
    "cols = [\n",
    "    \"Entrepreneurship Index\",\n",
    "    \"Women Entrepreneurship Index\",\n",
    "    \"Inflation rate\",\n",
    "    \"Female Labor Force Participation Rate\"\n",
    "]"
   ],
   "id": "a3c61345780057fe",
   "outputs": [],
   "execution_count": 22
  },
  {
   "metadata": {
    "ExecuteTime": {
     "end_time": "2025-05-07T14:25:33.935993Z",
     "start_time": "2025-05-07T14:25:33.929712Z"
    }
   },
   "cell_type": "code",
   "source": "df_women[cols].describe().round(2)",
   "id": "a578916bd4462068",
   "outputs": [
    {
     "data": {
      "text/plain": [
       "       Entrepreneurship Index  Women Entrepreneurship Index  Inflation rate  \\\n",
       "count                   51.00                         51.00           51.00   \n",
       "mean                    47.24                         47.84            2.59   \n",
       "std                     16.19                         14.27            5.38   \n",
       "min                     24.80                         25.30           -2.25   \n",
       "25%                     31.90                         36.35           -0.50   \n",
       "50%                     42.70                         44.50            0.60   \n",
       "75%                     65.40                         59.15            3.60   \n",
       "max                     77.60                         74.80           26.50   \n",
       "\n",
       "       Female Labor Force Participation Rate  \n",
       "count                                  51.00  \n",
       "mean                                   58.48  \n",
       "std                                    13.86  \n",
       "min                                    13.00  \n",
       "25%                                    55.80  \n",
       "50%                                    61.00  \n",
       "75%                                    67.40  \n",
       "max                                    82.30  "
      ],
      "text/html": [
       "<div>\n",
       "<style scoped>\n",
       "    .dataframe tbody tr th:only-of-type {\n",
       "        vertical-align: middle;\n",
       "    }\n",
       "\n",
       "    .dataframe tbody tr th {\n",
       "        vertical-align: top;\n",
       "    }\n",
       "\n",
       "    .dataframe thead th {\n",
       "        text-align: right;\n",
       "    }\n",
       "</style>\n",
       "<table border=\"1\" class=\"dataframe\">\n",
       "  <thead>\n",
       "    <tr style=\"text-align: right;\">\n",
       "      <th></th>\n",
       "      <th>Entrepreneurship Index</th>\n",
       "      <th>Women Entrepreneurship Index</th>\n",
       "      <th>Inflation rate</th>\n",
       "      <th>Female Labor Force Participation Rate</th>\n",
       "    </tr>\n",
       "  </thead>\n",
       "  <tbody>\n",
       "    <tr>\n",
       "      <th>count</th>\n",
       "      <td>51.00</td>\n",
       "      <td>51.00</td>\n",
       "      <td>51.00</td>\n",
       "      <td>51.00</td>\n",
       "    </tr>\n",
       "    <tr>\n",
       "      <th>mean</th>\n",
       "      <td>47.24</td>\n",
       "      <td>47.84</td>\n",
       "      <td>2.59</td>\n",
       "      <td>58.48</td>\n",
       "    </tr>\n",
       "    <tr>\n",
       "      <th>std</th>\n",
       "      <td>16.19</td>\n",
       "      <td>14.27</td>\n",
       "      <td>5.38</td>\n",
       "      <td>13.86</td>\n",
       "    </tr>\n",
       "    <tr>\n",
       "      <th>min</th>\n",
       "      <td>24.80</td>\n",
       "      <td>25.30</td>\n",
       "      <td>-2.25</td>\n",
       "      <td>13.00</td>\n",
       "    </tr>\n",
       "    <tr>\n",
       "      <th>25%</th>\n",
       "      <td>31.90</td>\n",
       "      <td>36.35</td>\n",
       "      <td>-0.50</td>\n",
       "      <td>55.80</td>\n",
       "    </tr>\n",
       "    <tr>\n",
       "      <th>50%</th>\n",
       "      <td>42.70</td>\n",
       "      <td>44.50</td>\n",
       "      <td>0.60</td>\n",
       "      <td>61.00</td>\n",
       "    </tr>\n",
       "    <tr>\n",
       "      <th>75%</th>\n",
       "      <td>65.40</td>\n",
       "      <td>59.15</td>\n",
       "      <td>3.60</td>\n",
       "      <td>67.40</td>\n",
       "    </tr>\n",
       "    <tr>\n",
       "      <th>max</th>\n",
       "      <td>77.60</td>\n",
       "      <td>74.80</td>\n",
       "      <td>26.50</td>\n",
       "      <td>82.30</td>\n",
       "    </tr>\n",
       "  </tbody>\n",
       "</table>\n",
       "</div>"
      ]
     },
     "execution_count": 23,
     "metadata": {},
     "output_type": "execute_result"
    }
   ],
   "execution_count": 23
  },
  {
   "metadata": {
    "ExecuteTime": {
     "end_time": "2025-05-07T14:25:33.971704Z",
     "start_time": "2025-05-07T14:25:33.967614Z"
    }
   },
   "cell_type": "code",
   "source": "df_women[cols].corr().round(2)",
   "id": "1f74ab38d9a1aa75",
   "outputs": [
    {
     "data": {
      "text/plain": [
       "                                       Entrepreneurship Index  \\\n",
       "Entrepreneurship Index                                   1.00   \n",
       "Women Entrepreneurship Index                             0.91   \n",
       "Inflation rate                                          -0.40   \n",
       "Female Labor Force Participation Rate                    0.33   \n",
       "\n",
       "                                       Women Entrepreneurship Index  \\\n",
       "Entrepreneurship Index                                         0.91   \n",
       "Women Entrepreneurship Index                                   1.00   \n",
       "Inflation rate                                                -0.46   \n",
       "Female Labor Force Participation Rate                          0.44   \n",
       "\n",
       "                                       Inflation rate  \\\n",
       "Entrepreneurship Index                          -0.40   \n",
       "Women Entrepreneurship Index                    -0.46   \n",
       "Inflation rate                                   1.00   \n",
       "Female Labor Force Participation Rate           -0.14   \n",
       "\n",
       "                                       Female Labor Force Participation Rate  \n",
       "Entrepreneurship Index                                                  0.33  \n",
       "Women Entrepreneurship Index                                            0.44  \n",
       "Inflation rate                                                         -0.14  \n",
       "Female Labor Force Participation Rate                                   1.00  "
      ],
      "text/html": [
       "<div>\n",
       "<style scoped>\n",
       "    .dataframe tbody tr th:only-of-type {\n",
       "        vertical-align: middle;\n",
       "    }\n",
       "\n",
       "    .dataframe tbody tr th {\n",
       "        vertical-align: top;\n",
       "    }\n",
       "\n",
       "    .dataframe thead th {\n",
       "        text-align: right;\n",
       "    }\n",
       "</style>\n",
       "<table border=\"1\" class=\"dataframe\">\n",
       "  <thead>\n",
       "    <tr style=\"text-align: right;\">\n",
       "      <th></th>\n",
       "      <th>Entrepreneurship Index</th>\n",
       "      <th>Women Entrepreneurship Index</th>\n",
       "      <th>Inflation rate</th>\n",
       "      <th>Female Labor Force Participation Rate</th>\n",
       "    </tr>\n",
       "  </thead>\n",
       "  <tbody>\n",
       "    <tr>\n",
       "      <th>Entrepreneurship Index</th>\n",
       "      <td>1.00</td>\n",
       "      <td>0.91</td>\n",
       "      <td>-0.40</td>\n",
       "      <td>0.33</td>\n",
       "    </tr>\n",
       "    <tr>\n",
       "      <th>Women Entrepreneurship Index</th>\n",
       "      <td>0.91</td>\n",
       "      <td>1.00</td>\n",
       "      <td>-0.46</td>\n",
       "      <td>0.44</td>\n",
       "    </tr>\n",
       "    <tr>\n",
       "      <th>Inflation rate</th>\n",
       "      <td>-0.40</td>\n",
       "      <td>-0.46</td>\n",
       "      <td>1.00</td>\n",
       "      <td>-0.14</td>\n",
       "    </tr>\n",
       "    <tr>\n",
       "      <th>Female Labor Force Participation Rate</th>\n",
       "      <td>0.33</td>\n",
       "      <td>0.44</td>\n",
       "      <td>-0.14</td>\n",
       "      <td>1.00</td>\n",
       "    </tr>\n",
       "  </tbody>\n",
       "</table>\n",
       "</div>"
      ]
     },
     "execution_count": 24,
     "metadata": {},
     "output_type": "execute_result"
    }
   ],
   "execution_count": 24
  },
  {
   "metadata": {
    "ExecuteTime": {
     "end_time": "2025-05-07T14:25:34.118050Z",
     "start_time": "2025-05-07T14:25:34.012875Z"
    }
   },
   "cell_type": "code",
   "source": [
    "plt.figure(figsize=(8, 5))\n",
    "df_women[\"Entrepreneurship Index\"].hist(bins=12, edgecolor=\"k\")\n",
    "plt.title(\"Распределение GEI\")\n",
    "plt.xlabel(\"GEI\")\n",
    "plt.ylabel(\"Частота\")\n",
    "plt.tight_layout()\n",
    "plt.show()"
   ],
   "id": "289866cc63239442",
   "outputs": [
    {
     "data": {
      "text/plain": [
       "<Figure size 800x500 with 1 Axes>"
      ],
      "image/png": "[encoded data removed]"
     },
     "metadata": {},
     "output_type": "display_data"
    }
   ],
   "execution_count": 25
  },
  {
   "metadata": {
    "ExecuteTime": {
     "end_time": "2025-05-07T14:25:34.206233Z",
     "start_time": "2025-05-07T14:25:34.151528Z"
    }
   },
   "cell_type": "code",
   "source": [
    "plt.figure(figsize=(8, 5))\n",
    "df_women[\"Women Entrepreneurship Index\"].hist(bins=12, edgecolor=\"k\")\n",
    "plt.title(\"Распределение WEI\")\n",
    "plt.xlabel(\"WEI\")\n",
    "plt.ylabel(\"Частота\")\n",
    "plt.tight_layout()\n",
    "plt.show()"
   ],
   "id": "161baac407756a71",
   "outputs": [
    {
     "data": {
      "text/plain": [
       "<Figure size 800x500 with 1 Axes>"
      ],
      "image/png": "[encoded data removed]"
     },
     "metadata": {},
     "output_type": "display_data"
    }
   ],
   "execution_count": 26
  },
  {
   "metadata": {
    "ExecuteTime": {
     "end_time": "2025-05-07T14:25:34.268638Z",
     "start_time": "2025-05-07T14:25:34.222370Z"
    }
   },
   "cell_type": "code",
   "source": [
    "plt.figure(figsize=(6, 6))\n",
    "plt.scatter(\n",
    "    df_women[\"Entrepreneurship Index\"],\n",
    "    df_women[\"Women Entrepreneurship Index\"],\n",
    "    alpha=0.7, edgecolor=\"k\"\n",
    ")\n",
    "plt.title(\"GEI vs WEI\")\n",
    "plt.xlabel(\"GEI\")\n",
    "plt.ylabel(\"WEI\")\n",
    "plt.grid(True)\n",
    "plt.tight_layout()\n",
    "plt.show()"
   ],
   "id": "67beacc718410d24",
   "outputs": [
    {
     "data": {
      "text/plain": [
       "<Figure size 600x600 with 1 Axes>"
      ],
      "image/png": "[encoded data removed]"
     },
     "metadata": {},
     "output_type": "display_data"
    }
   ],
   "execution_count": 27
  },
  {
   "metadata": {
    "ExecuteTime": {
     "end_time": "2025-05-07T14:25:34.338826Z",
     "start_time": "2025-05-07T14:25:34.287883Z"
    }
   },
   "cell_type": "code",
   "source": [
    "plt.figure(figsize=(6, 6))\n",
    "plt.scatter(\n",
    "    df_women[\"Entrepreneurship Index\"],\n",
    "    df_women[\"Inflation rate\"],\n",
    "    alpha=0.7, edgecolor=\"k\"\n",
    ")\n",
    "plt.title(\"GEI vs Инфляция (%)\")\n",
    "plt.xlabel(\"GEI\")\n",
    "plt.ylabel(\"Инфляция (%)\")\n",
    "plt.grid(True)\n",
    "plt.tight_layout()\n",
    "plt.show()"
   ],
   "id": "b0a4bc3d51481e38",
   "outputs": [
    {
     "data": {
      "text/plain": [
       "<Figure size 600x600 with 1 Axes>"
      ],
      "image/png": "[encoded data removed]"
     },
     "metadata": {},
     "output_type": "display_data"
    }
   ],
   "execution_count": 28
  },
  {
   "metadata": {
    "ExecuteTime": {
     "end_time": "2025-05-07T14:25:34.407812Z",
     "start_time": "2025-05-07T14:25:34.358821Z"
    }
   },
   "cell_type": "code",
   "source": [
    "plt.figure(figsize=(6, 6))\n",
    "plt.scatter(\n",
    "    df_women[\"Entrepreneurship Index\"],\n",
    "    df_women[\"Female Labor Force Participation Rate\"],\n",
    "    alpha=0.7, edgecolor=\"k\"\n",
    ")\n",
    "plt.title(\"GEI vs Female LFPR (%)\")\n",
    "plt.xlabel(\"GEI\")\n",
    "plt.ylabel(\"Female LFPR (%)\")\n",
    "plt.grid(True)\n",
    "plt.tight_layout()\n",
    "plt.show()"
   ],
   "id": "812a09b1b3e4cc4c",
   "outputs": [
    {
     "data": {
      "text/plain": [
       "<Figure size 600x600 with 1 Axes>"
      ],
      "image/png": "[encoded data removed]"
     },
     "metadata": {},
     "output_type": "display_data"
    }
   ],
   "execution_count": 29
  },
  {
   "metadata": {},
   "cell_type": "markdown",
   "source": "## Факторный анализ",
   "id": "b4436521cce93046"
  },
  {
   "metadata": {
    "ExecuteTime": {
     "end_time": "2025-05-07T14:25:34.425007Z",
     "start_time": "2025-05-07T14:25:34.423513Z"
    }
   },
   "cell_type": "code",
   "source": [
    "numeric_cols = [\n",
    "    'Entrepreneurship Index',\n",
    "    'Women Entrepreneurship Index',\n",
    "    'Inflation rate',\n",
    "    'Female Labor Force Participation Rate'\n",
    "]"
   ],
   "id": "5ed6b1c7445f395e",
   "outputs": [],
   "execution_count": 30
  },
  {
   "metadata": {
    "ExecuteTime": {
     "end_time": "2025-05-07T14:25:34.437664Z",
     "start_time": "2025-05-07T14:25:34.434995Z"
    }
   },
   "cell_type": "code",
   "source": "factory_data = StandardScaler().fit_transform(df_women[numeric_cols].dropna())",
   "id": "aacc592b4f83848e",
   "outputs": [],
   "execution_count": 31
  },
  {
   "metadata": {},
   "cell_type": "code",
   "source": [
    "factory_analyzer = FactorAnalyzer(rotation=None)\n",
    "factory_analyzer.fit(factory_data)"
   ],
   "id": "6b425d4d26dce26b",
   "outputs": [],
   "execution_count": null
  },
  {
   "metadata": {
    "ExecuteTime": {
     "end_time": "2025-05-07T14:25:34.466534Z",
     "start_time": "2025-05-07T14:25:34.464987Z"
    }
   },
   "cell_type": "code",
   "source": "original_values, common_values = factory_analyzer.get_eigenvalues()",
   "id": "edd9405337335f51",
   "outputs": [],
   "execution_count": 33
  },
  {
   "metadata": {
    "ExecuteTime": {
     "end_time": "2025-05-07T14:25:34.484577Z",
     "start_time": "2025-05-07T14:25:34.482808Z"
    }
   },
   "cell_type": "code",
   "source": "print(\"Собственные значения:\", original_values)",
   "id": "ec225ea27cdd892d",
   "outputs": [
    {
     "name": "stdout",
     "output_type": "stream",
     "text": [
      "Собственные значения: [2.42944974 0.86248824 0.63316061 0.0749014 ]\n"
     ]
    }
   ],
   "execution_count": 34
  },
  {
   "metadata": {
    "ExecuteTime": {
     "end_time": "2025-05-07T14:25:34.548696Z",
     "start_time": "2025-05-07T14:25:34.508866Z"
    }
   },
   "cell_type": "code",
   "source": [
    "plt.figure(figsize=(6, 4))\n",
    "plt.plot(range(1, len(original_values) + 1), original_values, 'o-')\n",
    "plt.axhline(1, color='red', linestyle='--')\n",
    "plt.title('Собственные значения факторов')\n",
    "plt.xlabel('Номер фактора')\n",
    "plt.ylabel('Собственное значение')\n",
    "plt.grid(True)\n",
    "plt.show()"
   ],
   "id": "4dfd9e113f3846eb",
   "outputs": [
    {
     "data": {
      "text/plain": [
       "<Figure size 600x400 with 1 Axes>"
      ],
      "image/png": "[encoded data removed]"
     },
     "metadata": {},
     "output_type": "display_data"
    }
   ],
   "execution_count": 35
  },
  {
   "metadata": {
    "ExecuteTime": {
     "end_time": "2025-05-07T14:25:34.567471Z",
     "start_time": "2025-05-07T14:25:34.565635Z"
    }
   },
   "cell_type": "code",
   "source": [
    "n_factors = sum(original_values > 1)\n",
    "print(f\"Число факторов (eigenvalue > 1): {n_factors}\")"
   ],
   "id": "cc65fff4f7d94209",
   "outputs": [
    {
     "name": "stdout",
     "output_type": "stream",
     "text": [
      "Число факторов (eigenvalue > 1): 1\n"
     ]
    }
   ],
   "execution_count": 36
  },
  {
   "metadata": {},
   "cell_type": "code",
   "source": [
    "factory_analyzer = FactorAnalyzer(n_factors=n_factors, rotation='varimax')\n",
    "factory_analyzer.fit(factory_data)"
   ],
   "id": "4c9384a407cbddba",
   "outputs": [],
   "execution_count": null
  },
  {
   "metadata": {
    "ExecuteTime": {
     "end_time": "2025-05-07T14:25:34.626655Z",
     "start_time": "2025-05-07T14:25:34.623708Z"
    }
   },
   "cell_type": "code",
   "source": [
    "loadings = pd.DataFrame(\n",
    "    factory_analyzer.loadings_,\n",
    "    index=numeric_cols,\n",
    "    columns=[f'Фактор{i + 1}' for i in range(n_factors)]\n",
    ")\n",
    "loadings"
   ],
   "id": "ffcd6ff715a0ace8",
   "outputs": [
    {
     "data": {
      "text/plain": [
       "                                        Фактор1\n",
       "Entrepreneurship Index                -0.896029\n",
       "Women Entrepreneurship Index          -1.011144\n",
       "Inflation rate                         0.438626\n",
       "Female Labor Force Participation Rate -0.399985"
      ],
      "text/html": [
       "<div>\n",
       "<style scoped>\n",
       "    .dataframe tbody tr th:only-of-type {\n",
       "        vertical-align: middle;\n",
       "    }\n",
       "\n",
       "    .dataframe tbody tr th {\n",
       "        vertical-align: top;\n",
       "    }\n",
       "\n",
       "    .dataframe thead th {\n",
       "        text-align: right;\n",
       "    }\n",
       "</style>\n",
       "<table border=\"1\" class=\"dataframe\">\n",
       "  <thead>\n",
       "    <tr style=\"text-align: right;\">\n",
       "      <th></th>\n",
       "      <th>Фактор1</th>\n",
       "    </tr>\n",
       "  </thead>\n",
       "  <tbody>\n",
       "    <tr>\n",
       "      <th>Entrepreneurship Index</th>\n",
       "      <td>-0.896029</td>\n",
       "    </tr>\n",
       "    <tr>\n",
       "      <th>Women Entrepreneurship Index</th>\n",
       "      <td>-1.011144</td>\n",
       "    </tr>\n",
       "    <tr>\n",
       "      <th>Inflation rate</th>\n",
       "      <td>0.438626</td>\n",
       "    </tr>\n",
       "    <tr>\n",
       "      <th>Female Labor Force Participation Rate</th>\n",
       "      <td>-0.399985</td>\n",
       "    </tr>\n",
       "  </tbody>\n",
       "</table>\n",
       "</div>"
      ]
     },
     "execution_count": 38,
     "metadata": {},
     "output_type": "execute_result"
    }
   ],
   "execution_count": 38
  },
  {
   "metadata": {},
   "cell_type": "code",
   "source": [
    "factory_scores = factory_analyzer.transform(factory_data)\n",
    "df_factors = pd.DataFrame(\n",
    "    factory_scores,\n",
    "    columns=[f'Фактор{i + 1}' for i in range(n_factors)]\n",
    ")\n",
    "df_factors['Country'] = df_women['Country'].values"
   ],
   "id": "e14d3f18425285dd",
   "outputs": [],
   "execution_count": null
  },
  {
   "metadata": {
    "ExecuteTime": {
     "end_time": "2025-05-07T14:25:34.683802Z",
     "start_time": "2025-05-07T14:25:34.680911Z"
    }
   },
   "cell_type": "code",
   "source": "df_factors.head(5)",
   "id": "4f9084a07b63663f",
   "outputs": [
    {
     "data": {
      "text/plain": [
       "    Фактор1  Country\n",
       "0 -0.331797  Austria\n",
       "1 -1.149984  Belgium\n",
       "2 -0.417979  Estonia\n",
       "3 -1.335281  Finland\n",
       "4 -1.570324   France"
      ],
      "text/html": [
       "<div>\n",
       "<style scoped>\n",
       "    .dataframe tbody tr th:only-of-type {\n",
       "        vertical-align: middle;\n",
       "    }\n",
       "\n",
       "    .dataframe tbody tr th {\n",
       "        vertical-align: top;\n",
       "    }\n",
       "\n",
       "    .dataframe thead th {\n",
       "        text-align: right;\n",
       "    }\n",
       "</style>\n",
       "<table border=\"1\" class=\"dataframe\">\n",
       "  <thead>\n",
       "    <tr style=\"text-align: right;\">\n",
       "      <th></th>\n",
       "      <th>Фактор1</th>\n",
       "      <th>Country</th>\n",
       "    </tr>\n",
       "  </thead>\n",
       "  <tbody>\n",
       "    <tr>\n",
       "      <th>0</th>\n",
       "      <td>-0.331797</td>\n",
       "      <td>Austria</td>\n",
       "    </tr>\n",
       "    <tr>\n",
       "      <th>1</th>\n",
       "      <td>-1.149984</td>\n",
       "      <td>Belgium</td>\n",
       "    </tr>\n",
       "    <tr>\n",
       "      <th>2</th>\n",
       "      <td>-0.417979</td>\n",
       "      <td>Estonia</td>\n",
       "    </tr>\n",
       "    <tr>\n",
       "      <th>3</th>\n",
       "      <td>-1.335281</td>\n",
       "      <td>Finland</td>\n",
       "    </tr>\n",
       "    <tr>\n",
       "      <th>4</th>\n",
       "      <td>-1.570324</td>\n",
       "      <td>France</td>\n",
       "    </tr>\n",
       "  </tbody>\n",
       "</table>\n",
       "</div>"
      ]
     },
     "execution_count": 40,
     "metadata": {},
     "output_type": "execute_result"
    }
   ],
   "execution_count": 40
  },
  {
   "metadata": {},
   "cell_type": "markdown",
   "source": "# Кластерный анализ",
   "id": "d083d26a4fa1c52d"
  },
  {
   "metadata": {
    "ExecuteTime": {
     "end_time": "2025-05-07T14:25:34.720514Z",
     "start_time": "2025-05-07T14:25:34.718988Z"
    }
   },
   "cell_type": "code",
   "source": "X_clust = df_women_processed.copy()",
   "id": "6a02dedf7a724c84",
   "outputs": [],
   "execution_count": 41
  },
  {
   "metadata": {
    "ExecuteTime": {
     "end_time": "2025-05-07T14:25:34.828617Z",
     "start_time": "2025-05-07T14:25:34.767317Z"
    }
   },
   "cell_type": "code",
   "source": [
    "inertia = []\n",
    "K_range = range(1, 8)\n",
    "for k in K_range:\n",
    "    km = KMeans(n_clusters=k, random_state=42, n_init=10)\n",
    "    km.fit(X_clust)\n",
    "    inertia.append(km.inertia_)"
   ],
   "id": "5941dc9ee0c93a61",
   "outputs": [],
   "execution_count": 42
  },
  {
   "metadata": {
    "ExecuteTime": {
     "end_time": "2025-05-07T14:25:34.888145Z",
     "start_time": "2025-05-07T14:25:34.842216Z"
    }
   },
   "cell_type": "code",
   "source": [
    "plt.figure(figsize=(6, 4))\n",
    "plt.plot(K_range, inertia, 'o-', linewidth=2)\n",
    "plt.xlabel('Число кластеров (k)')\n",
    "plt.ylabel('Inertia (сумма квадратов до центров)')\n",
    "plt.title('Elbow-метод для выбора числа кластеров')\n",
    "plt.grid(True)\n",
    "plt.show()"
   ],
   "id": "d9e3c90af372fba7",
   "outputs": [
    {
     "data": {
      "text/plain": [
       "<Figure size 600x400 with 1 Axes>"
      ],
      "image/png": "[encoded data removed]"
     },
     "metadata": {},
     "output_type": "display_data"
    }
   ],
   "execution_count": 43
  },
  {
   "metadata": {
    "ExecuteTime": {
     "end_time": "2025-05-07T14:25:34.907226Z",
     "start_time": "2025-05-07T14:25:34.901730Z"
    }
   },
   "cell_type": "code",
   "source": [
    "k_opt = 2\n",
    "kmeans = KMeans(n_clusters=k_opt, random_state=11, n_init=10)\n",
    "clusters = kmeans.fit_predict(X_clust)"
   ],
   "id": "feae3a3b213bc5a5",
   "outputs": [],
   "execution_count": 44
  },
  {
   "metadata": {
    "ExecuteTime": {
     "end_time": "2025-05-07T14:25:34.921408Z",
     "start_time": "2025-05-07T14:25:34.919591Z"
    }
   },
   "cell_type": "code",
   "source": "df_women['Cluster'] = clusters",
   "id": "9d77719bb7a6fd93",
   "outputs": [],
   "execution_count": 45
  },
  {
   "metadata": {
    "ExecuteTime": {
     "end_time": "2025-05-07T14:25:34.986803Z",
     "start_time": "2025-05-07T14:25:34.934341Z"
    }
   },
   "cell_type": "code",
   "source": [
    "plt.figure(figsize=(6, 6))\n",
    "for cl in range(k_opt):\n",
    "    mask = df_women['Cluster'] == cl\n",
    "    plt.scatter(\n",
    "        df_women.loc[mask, 'Entrepreneurship Index'],\n",
    "        df_women.loc[mask, 'Women Entrepreneurship Index'],\n",
    "        label=f'Кластер {cl + 1}',\n",
    "        alpha=0.7, edgecolor='k'\n",
    "    )\n",
    "plt.xlabel('GEI (Entrepreneurship Index)')\n",
    "plt.ylabel('WEI (Women Entrepreneurship Index)')\n",
    "plt.title('Кластеризация стран по GEI и WEI (k=3)')\n",
    "plt.legend()\n",
    "plt.grid(True)\n",
    "plt.show()"
   ],
   "id": "c53474423dda1234",
   "outputs": [
    {
     "data": {
      "text/plain": [
       "<Figure size 600x600 with 1 Axes>"
      ],
      "image/png": "[encoded data removed]"
     },
     "metadata": {},
     "output_type": "display_data"
    }
   ],
   "execution_count": 46
  },
  {
   "metadata": {
    "ExecuteTime": {
     "end_time": "2025-05-07T14:25:35.006417Z",
     "start_time": "2025-05-07T14:25:35.001317Z"
    }
   },
   "cell_type": "code",
   "source": [
    "cluster_profiles = df_women.groupby('Cluster')[\n",
    "    [\n",
    "        'Entrepreneurship Index',\n",
    "        'Women Entrepreneurship Index',\n",
    "        'Inflation rate',\n",
    "        'Female Labor Force Participation Rate'\n",
    "    ]\n",
    "].mean().round(2)\n",
    "cluster_profiles"
   ],
   "id": "34dbe36b1dc6d2d9",
   "outputs": [
    {
     "data": {
      "text/plain": [
       "         Entrepreneurship Index  Women Entrepreneurship Index  Inflation rate  \\\n",
       "Cluster                                                                         \n",
       "0                         60.16                         59.99            0.08   \n",
       "1                         33.81                         35.20            5.20   \n",
       "\n",
       "         Female Labor Force Participation Rate  \n",
       "Cluster                                         \n",
       "0                                        63.89  \n",
       "1                                        52.86  "
      ],
      "text/html": [
       "<div>\n",
       "<style scoped>\n",
       "    .dataframe tbody tr th:only-of-type {\n",
       "        vertical-align: middle;\n",
       "    }\n",
       "\n",
       "    .dataframe tbody tr th {\n",
       "        vertical-align: top;\n",
       "    }\n",
       "\n",
       "    .dataframe thead th {\n",
       "        text-align: right;\n",
       "    }\n",
       "</style>\n",
       "<table border=\"1\" class=\"dataframe\">\n",
       "  <thead>\n",
       "    <tr style=\"text-align: right;\">\n",
       "      <th></th>\n",
       "      <th>Entrepreneurship Index</th>\n",
       "      <th>Women Entrepreneurship Index</th>\n",
       "      <th>Inflation rate</th>\n",
       "      <th>Female Labor Force Participation Rate</th>\n",
       "    </tr>\n",
       "    <tr>\n",
       "      <th>Cluster</th>\n",
       "      <th></th>\n",
       "      <th></th>\n",
       "      <th></th>\n",
       "      <th></th>\n",
       "    </tr>\n",
       "  </thead>\n",
       "  <tbody>\n",
       "    <tr>\n",
       "      <th>0</th>\n",
       "      <td>60.16</td>\n",
       "      <td>59.99</td>\n",
       "      <td>0.08</td>\n",
       "      <td>63.89</td>\n",
       "    </tr>\n",
       "    <tr>\n",
       "      <th>1</th>\n",
       "      <td>33.81</td>\n",
       "      <td>35.20</td>\n",
       "      <td>5.20</td>\n",
       "      <td>52.86</td>\n",
       "    </tr>\n",
       "  </tbody>\n",
       "</table>\n",
       "</div>"
      ]
     },
     "execution_count": 47,
     "metadata": {},
     "output_type": "execute_result"
    }
   ],
   "execution_count": 47
  },
  {
   "metadata": {
    "ExecuteTime": {
     "end_time": "2025-05-07T14:25:35.042266Z",
     "start_time": "2025-05-07T14:25:35.038264Z"
    }
   },
   "cell_type": "code",
   "source": [
    "cluster_profiles['Cluster_description'] = [\n",
    "    \"Advanced/Inclusive (высокие GEI, WEI, низкая инфляция)\",\n",
    "    \"Developing/Challenges (низкие GEI, WEI, высокая инфляция)\"\n",
    "]\n",
    "cluster_profiles"
   ],
   "id": "9290c939af95d43d",
   "outputs": [
    {
     "data": {
      "text/plain": [
       "         Entrepreneurship Index  Women Entrepreneurship Index  Inflation rate  \\\n",
       "Cluster                                                                         \n",
       "0                         60.16                         59.99            0.08   \n",
       "1                         33.81                         35.20            5.20   \n",
       "\n",
       "         Female Labor Force Participation Rate  \\\n",
       "Cluster                                          \n",
       "0                                        63.89   \n",
       "1                                        52.86   \n",
       "\n",
       "                                       Cluster_description  \n",
       "Cluster                                                     \n",
       "0        Advanced/Inclusive (высокие GEI, WEI, низкая и...  \n",
       "1        Developing/Challenges (низкие GEI, WEI, высока...  "
      ],
      "text/html": [
       "<div>\n",
       "<style scoped>\n",
       "    .dataframe tbody tr th:only-of-type {\n",
       "        vertical-align: middle;\n",
       "    }\n",
       "\n",
       "    .dataframe tbody tr th {\n",
       "        vertical-align: top;\n",
       "    }\n",
       "\n",
       "    .dataframe thead th {\n",
       "        text-align: right;\n",
       "    }\n",
       "</style>\n",
       "<table border=\"1\" class=\"dataframe\">\n",
       "  <thead>\n",
       "    <tr style=\"text-align: right;\">\n",
       "      <th></th>\n",
       "      <th>Entrepreneurship Index</th>\n",
       "      <th>Women Entrepreneurship Index</th>\n",
       "      <th>Inflation rate</th>\n",
       "      <th>Female Labor Force Participation Rate</th>\n",
       "      <th>Cluster_description</th>\n",
       "    </tr>\n",
       "    <tr>\n",
       "      <th>Cluster</th>\n",
       "      <th></th>\n",
       "      <th></th>\n",
       "      <th></th>\n",
       "      <th></th>\n",
       "      <th></th>\n",
       "    </tr>\n",
       "  </thead>\n",
       "  <tbody>\n",
       "    <tr>\n",
       "      <th>0</th>\n",
       "      <td>60.16</td>\n",
       "      <td>59.99</td>\n",
       "      <td>0.08</td>\n",
       "      <td>63.89</td>\n",
       "      <td>Advanced/Inclusive (высокие GEI, WEI, низкая и...</td>\n",
       "    </tr>\n",
       "    <tr>\n",
       "      <th>1</th>\n",
       "      <td>33.81</td>\n",
       "      <td>35.20</td>\n",
       "      <td>5.20</td>\n",
       "      <td>52.86</td>\n",
       "      <td>Developing/Challenges (низкие GEI, WEI, высока...</td>\n",
       "    </tr>\n",
       "  </tbody>\n",
       "</table>\n",
       "</div>"
      ]
     },
     "execution_count": 48,
     "metadata": {},
     "output_type": "execute_result"
    }
   ],
   "execution_count": 48
  },
  {
   "metadata": {},
   "cell_type": "markdown",
   "source": "# Классификационные модели",
   "id": "34778ddfc1fd3274"
  },
  {
   "metadata": {
    "ExecuteTime": {
     "end_time": "2025-05-07T14:25:35.090117Z",
     "start_time": "2025-05-07T14:25:35.087192Z"
    }
   },
   "cell_type": "code",
   "source": [
    "X_train, X_test, y_train, y_test = train_test_split(\n",
    "    X, y,\n",
    "    test_size=0.2,\n",
    "    random_state=11,\n",
    "    stratify=y\n",
    ")"
   ],
   "id": "b76ab9cc663302b8",
   "outputs": [],
   "execution_count": 49
  },
  {
   "metadata": {
    "ExecuteTime": {
     "end_time": "2025-05-07T14:25:35.138592Z",
     "start_time": "2025-05-07T14:25:35.136832Z"
    }
   },
   "cell_type": "code",
   "source": [
    "models = {\n",
    "    \"LogisticRegression\": LogisticRegression(max_iter=1000, random_state=11),\n",
    "    \"DecisionTree\": DecisionTreeClassifier(random_state=11),\n",
    "    \"RandomForest\": RandomForestClassifier(n_estimators=100, random_state=11)\n",
    "}"
   ],
   "id": "52dfb35416c6974e",
   "outputs": [],
   "execution_count": 50
  },
  {
   "metadata": {
    "ExecuteTime": {
     "end_time": "2025-05-07T14:25:35.492734Z",
     "start_time": "2025-05-07T14:25:35.165419Z"
    }
   },
   "cell_type": "code",
   "source": [
    "results = []\n",
    "cv = StratifiedKFold(n_splits=5, shuffle=True, random_state=42)\n",
    "\n",
    "for name, model in models.items():\n",
    "    cv_scores = cross_val_score(model, X_train, y_train, cv=cv, scoring='accuracy')\n",
    "\n",
    "    model.fit(X_train, y_train)\n",
    "\n",
    "    y_pred = model.predict(X_test)\n",
    "    y_proba = model.predict_proba(X_test)[:, 1] if hasattr(model, \"predict_proba\") else None\n",
    "\n",
    "    acc = accuracy_score(y_test, y_pred)\n",
    "    prec = precision_score(y_test, y_pred)\n",
    "    rec = recall_score(y_test, y_pred)\n",
    "    f1 = f1_score(y_test, y_pred)\n",
    "    auc = roc_auc_score(y_test, y_proba) if y_proba is not None else np.nan\n",
    "\n",
    "    results.append(\n",
    "        {\n",
    "            \"Model\": name,\n",
    "            \"CV Accuracy Mean\": cv_scores.mean().round(3),\n",
    "            \"CV Accuracy Std\": cv_scores.std().round(3),\n",
    "            \"Test Accuracy\": round(acc, 3),\n",
    "            \"Precision\": round(prec, 3),\n",
    "            \"Recall\": round(rec, 3),\n",
    "            \"F1-score\": round(f1, 3),\n",
    "            \"ROC AUC\": round(auc, 3)\n",
    "        }\n",
    "    )"
   ],
   "id": "6649c31afd7658e8",
   "outputs": [],
   "execution_count": 51
  },
  {
   "metadata": {
    "ExecuteTime": {
     "end_time": "2025-05-07T14:25:35.520073Z",
     "start_time": "2025-05-07T14:25:35.514481Z"
    }
   },
   "cell_type": "code",
   "source": [
    "df_results = pd.DataFrame(results)\n",
    "df_results"
   ],
   "id": "f68d369e91733b56",
   "outputs": [
    {
     "data": {
      "text/plain": [
       "                Model  CV Accuracy Mean  CV Accuracy Std  Test Accuracy  \\\n",
       "0  LogisticRegression             0.554            0.059          0.477   \n",
       "1        DecisionTree             0.549            0.075          0.545   \n",
       "2        RandomForest             0.594            0.066          0.545   \n",
       "\n",
       "   Precision  Recall  F1-score  ROC AUC  \n",
       "0      0.381   0.444     0.410    0.515  \n",
       "1      0.462   0.667     0.545    0.564  \n",
       "2      0.450   0.500     0.474    0.509  "
      ],
      "text/html": [
       "<div>\n",
       "<style scoped>\n",
       "    .dataframe tbody tr th:only-of-type {\n",
       "        vertical-align: middle;\n",
       "    }\n",
       "\n",
       "    .dataframe tbody tr th {\n",
       "        vertical-align: top;\n",
       "    }\n",
       "\n",
       "    .dataframe thead th {\n",
       "        text-align: right;\n",
       "    }\n",
       "</style>\n",
       "<table border=\"1\" class=\"dataframe\">\n",
       "  <thead>\n",
       "    <tr style=\"text-align: right;\">\n",
       "      <th></th>\n",
       "      <th>Model</th>\n",
       "      <th>CV Accuracy Mean</th>\n",
       "      <th>CV Accuracy Std</th>\n",
       "      <th>Test Accuracy</th>\n",
       "      <th>Precision</th>\n",
       "      <th>Recall</th>\n",
       "      <th>F1-score</th>\n",
       "      <th>ROC AUC</th>\n",
       "    </tr>\n",
       "  </thead>\n",
       "  <tbody>\n",
       "    <tr>\n",
       "      <th>0</th>\n",
       "      <td>LogisticRegression</td>\n",
       "      <td>0.554</td>\n",
       "      <td>0.059</td>\n",
       "      <td>0.477</td>\n",
       "      <td>0.381</td>\n",
       "      <td>0.444</td>\n",
       "      <td>0.410</td>\n",
       "      <td>0.515</td>\n",
       "    </tr>\n",
       "    <tr>\n",
       "      <th>1</th>\n",
       "      <td>DecisionTree</td>\n",
       "      <td>0.549</td>\n",
       "      <td>0.075</td>\n",
       "      <td>0.545</td>\n",
       "      <td>0.462</td>\n",
       "      <td>0.667</td>\n",
       "      <td>0.545</td>\n",
       "      <td>0.564</td>\n",
       "    </tr>\n",
       "    <tr>\n",
       "      <th>2</th>\n",
       "      <td>RandomForest</td>\n",
       "      <td>0.594</td>\n",
       "      <td>0.066</td>\n",
       "      <td>0.545</td>\n",
       "      <td>0.450</td>\n",
       "      <td>0.500</td>\n",
       "      <td>0.474</td>\n",
       "      <td>0.509</td>\n",
       "    </tr>\n",
       "  </tbody>\n",
       "</table>\n",
       "</div>"
      ]
     },
     "execution_count": 52,
     "metadata": {},
     "output_type": "execute_result"
    }
   ],
   "execution_count": 52
  },
  {
   "metadata": {
    "ExecuteTime": {
     "end_time": "2025-05-07T14:25:35.580746Z",
     "start_time": "2025-05-07T14:25:35.569935Z"
    }
   },
   "cell_type": "code",
   "source": [
    "best_model = models[\"RandomForest\"]\n",
    "y_pred = best_model.predict(X_test)\n",
    "y_proba = best_model.predict_proba(X_test)[:, 1]"
   ],
   "id": "7895c12d52024b8d",
   "outputs": [],
   "execution_count": 53
  },
  {
   "metadata": {
    "ExecuteTime": {
     "end_time": "2025-05-07T14:25:35.650174Z",
     "start_time": "2025-05-07T14:25:35.646491Z"
    }
   },
   "cell_type": "code",
   "source": "confusion_matrix(y_test, y_pred)",
   "id": "a52db03494bda478",
   "outputs": [
    {
     "data": {
      "text/plain": [
       "array([[15, 11],\n",
       "       [ 9,  9]])"
      ]
     },
     "execution_count": 54,
     "metadata": {},
     "output_type": "execute_result"
    }
   ],
   "execution_count": 54
  },
  {
   "metadata": {
    "ExecuteTime": {
     "end_time": "2025-05-07T14:25:35.698194Z",
     "start_time": "2025-05-07T14:25:35.692383Z"
    }
   },
   "cell_type": "code",
   "source": "print(classification_report(y_test, y_pred))",
   "id": "4adc3d36e4a626d7",
   "outputs": [
    {
     "name": "stdout",
     "output_type": "stream",
     "text": [
      "              precision    recall  f1-score   support\n",
      "\n",
      "           0       0.62      0.58      0.60        26\n",
      "           1       0.45      0.50      0.47        18\n",
      "\n",
      "    accuracy                           0.55        44\n",
      "   macro avg       0.54      0.54      0.54        44\n",
      "weighted avg       0.55      0.55      0.55        44\n",
      "\n"
     ]
    }
   ],
   "execution_count": 55
  },
  {
   "metadata": {
    "ExecuteTime": {
     "end_time": "2025-05-07T14:25:35.840263Z",
     "start_time": "2025-05-07T14:25:35.794324Z"
    }
   },
   "cell_type": "code",
   "source": [
    "RocCurveDisplay.from_estimator(best_model, X_test, y_test)\n",
    "plt.show()"
   ],
   "id": "bdbda16b75bafbbe",
   "outputs": [
    {
     "data": {
      "text/plain": [
       "<Figure size 640x480 with 1 Axes>"
      ],
      "image/png": "[encoded data removed]"
     },
     "metadata": {},
     "output_type": "display_data"
    }
   ],
   "execution_count": 56
  },
  {
   "metadata": {
    "ExecuteTime": {
     "end_time": "2025-05-07T14:25:35.885987Z",
     "start_time": "2025-05-07T14:25:35.879976Z"
    }
   },
   "cell_type": "code",
   "source": [
    "importances = best_model.feature_importances_\n",
    "feat_imp = pd.Series(importances, index=X.columns).sort_values(ascending=False)"
   ],
   "id": "cbf046039c0c8a09",
   "outputs": [],
   "execution_count": 57
  },
  {
   "metadata": {
    "ExecuteTime": {
     "end_time": "2025-05-07T14:25:35.979173Z",
     "start_time": "2025-05-07T14:25:35.905688Z"
    }
   },
   "cell_type": "code",
   "source": [
    "plt.figure(figsize=(8, 6))\n",
    "sns.barplot(x=feat_imp.values, y=feat_imp.index)\n",
    "plt.title(\"Feature Importance (Random Forest)\")\n",
    "plt.xlabel(\"Важность признака\")\n",
    "plt.ylabel(\"Признак\")\n",
    "plt.tight_layout()\n",
    "plt.show()"
   ],
   "id": "691b7c9edc10477b",
   "outputs": [
    {
     "data": {
      "text/plain": [
       "<Figure size 800x600 with 1 Axes>"
      ],
      "image/png": "[encoded data removed]"
     },
     "metadata": {},
     "output_type": "display_data"
    }
   ],
   "execution_count": 58
  },
  {
   "metadata": {},
   "cell_type": "markdown",
   "source": "## Регрессионные и сценарные модели",
   "id": "b9e8b8a30412eb06"
  },
  {
   "metadata": {
    "ExecuteTime": {
     "end_time": "2025-05-07T14:25:35.999122Z",
     "start_time": "2025-05-07T14:25:35.996481Z"
    }
   },
   "cell_type": "code",
   "source": [
    "reg_df = df_women[[\n",
    "    'Entrepreneurship Index',\n",
    "    'Women Entrepreneurship Index',\n",
    "    'Inflation rate',\n",
    "    'Female Labor Force Participation Rate'\n",
    "]].dropna()"
   ],
   "id": "e8faaf930b89430",
   "outputs": [],
   "execution_count": 59
  },
  {
   "metadata": {
    "ExecuteTime": {
     "end_time": "2025-05-07T14:25:36.024466Z",
     "start_time": "2025-05-07T14:25:36.022707Z"
    }
   },
   "cell_type": "code",
   "source": [
    "y = reg_df['Entrepreneurship Index']\n",
    "X = reg_df.drop(columns=['Entrepreneurship Index'])"
   ],
   "id": "269dc1be0baee72b",
   "outputs": [],
   "execution_count": 60
  },
  {
   "metadata": {
    "ExecuteTime": {
     "end_time": "2025-05-07T14:25:36.041805Z",
     "start_time": "2025-05-07T14:25:36.039634Z"
    }
   },
   "cell_type": "code",
   "source": [
    "X_train, X_test, y_train, y_test = train_test_split(\n",
    "    X, y, test_size=0.2, random_state=42\n",
    ")"
   ],
   "id": "1a22ded664ddedb3",
   "outputs": [],
   "execution_count": 61
  },
  {
   "metadata": {
    "ExecuteTime": {
     "end_time": "2025-05-07T14:25:36.066754Z",
     "start_time": "2025-05-07T14:25:36.056687Z"
    }
   },
   "cell_type": "code",
   "source": [
    "X_train_sm = sm.add_constant(X_train)\n",
    "ols_model = sm.OLS(y_train, X_train_sm).fit()\n",
    "ols_model.summary()"
   ],
   "id": "8dd6902d410c21f3",
   "outputs": [
    {
     "data": {
      "text/plain": [
       "<class 'statsmodels.iolib.summary.Summary'>\n",
       "\"\"\"\n",
       "                              OLS Regression Results                              \n",
       "==================================================================================\n",
       "Dep. Variable:     Entrepreneurship Index   R-squared:                       0.852\n",
       "Model:                                OLS   Adj. R-squared:                  0.840\n",
       "Method:                     Least Squares   F-statistic:                     69.31\n",
       "Date:                    Wed, 07 May 2025   Prob (F-statistic):           5.00e-15\n",
       "Time:                            17:25:36   Log-Likelihood:                -130.82\n",
       "No. Observations:                      40   AIC:                             269.6\n",
       "Df Residuals:                          36   BIC:                             276.4\n",
       "Df Model:                               3                                         \n",
       "Covariance Type:                nonrobust                                         \n",
       "=========================================================================================================\n",
       "                                            coef    std err          t      P>|t|      [0.025      0.975]\n",
       "---------------------------------------------------------------------------------------------------------\n",
       "const                                    -2.3207      5.513     -0.421      0.676     -13.502       8.861\n",
       "Women Entrepreneurship Index              1.0724      0.092     11.644      0.000       0.886       1.259\n",
       "Inflation rate                            0.0969      0.210      0.461      0.648      -0.329       0.523\n",
       "Female Labor Force Participation Rate    -0.0285      0.091     -0.312      0.757      -0.214       0.157\n",
       "==============================================================================\n",
       "Omnibus:                        1.354   Durbin-Watson:                   2.753\n",
       "Prob(Omnibus):                  0.508   Jarque-Bera (JB):                0.556\n",
       "Skew:                           0.209   Prob(JB):                        0.757\n",
       "Kurtosis:                       3.399   Cond. No.                         406.\n",
       "==============================================================================\n",
       "\n",
       "Notes:\n",
       "[1] Standard Errors assume that the covariance matrix of the errors is correctly specified.\n",
       "\"\"\""
      ],
      "text/html": [
       "<table class=\"simpletable\">\n",
       "<caption>OLS Regression Results</caption>\n",
       "<tr>\n",
       "  <th>Dep. Variable:</th>    <td>Entrepreneurship Index</td> <th>  R-squared:         </th> <td>   0.852</td>\n",
       "</tr>\n",
       "<tr>\n",
       "  <th>Model:</th>                      <td>OLS</td>          <th>  Adj. R-squared:    </th> <td>   0.840</td>\n",
       "</tr>\n",
       "<tr>\n",
       "  <th>Method:</th>                <td>Least Squares</td>     <th>  F-statistic:       </th> <td>   69.31</td>\n",
       "</tr>\n",
       "<tr>\n",
       "  <th>Date:</th>                <td>Wed, 07 May 2025</td>    <th>  Prob (F-statistic):</th> <td>5.00e-15</td>\n",
       "</tr>\n",
       "<tr>\n",
       "  <th>Time:</th>                    <td>17:25:36</td>        <th>  Log-Likelihood:    </th> <td> -130.82</td>\n",
       "</tr>\n",
       "<tr>\n",
       "  <th>No. Observations:</th>         <td>    40</td>         <th>  AIC:               </th> <td>   269.6</td>\n",
       "</tr>\n",
       "<tr>\n",
       "  <th>Df Residuals:</th>             <td>    36</td>         <th>  BIC:               </th> <td>   276.4</td>\n",
       "</tr>\n",
       "<tr>\n",
       "  <th>Df Model:</th>                 <td>     3</td>         <th>                     </th>     <td> </td>   \n",
       "</tr>\n",
       "<tr>\n",
       "  <th>Covariance Type:</th>         <td>nonrobust</td>       <th>                     </th>     <td> </td>   \n",
       "</tr>\n",
       "</table>\n",
       "<table class=\"simpletable\">\n",
       "<tr>\n",
       "                    <td></td>                       <th>coef</th>     <th>std err</th>      <th>t</th>      <th>P>|t|</th>  <th>[0.025</th>    <th>0.975]</th>  \n",
       "</tr>\n",
       "<tr>\n",
       "  <th>const</th>                                 <td>   -2.3207</td> <td>    5.513</td> <td>   -0.421</td> <td> 0.676</td> <td>  -13.502</td> <td>    8.861</td>\n",
       "</tr>\n",
       "<tr>\n",
       "  <th>Women Entrepreneurship Index</th>          <td>    1.0724</td> <td>    0.092</td> <td>   11.644</td> <td> 0.000</td> <td>    0.886</td> <td>    1.259</td>\n",
       "</tr>\n",
       "<tr>\n",
       "  <th>Inflation rate</th>                        <td>    0.0969</td> <td>    0.210</td> <td>    0.461</td> <td> 0.648</td> <td>   -0.329</td> <td>    0.523</td>\n",
       "</tr>\n",
       "<tr>\n",
       "  <th>Female Labor Force Participation Rate</th> <td>   -0.0285</td> <td>    0.091</td> <td>   -0.312</td> <td> 0.757</td> <td>   -0.214</td> <td>    0.157</td>\n",
       "</tr>\n",
       "</table>\n",
       "<table class=\"simpletable\">\n",
       "<tr>\n",
       "  <th>Omnibus:</th>       <td> 1.354</td> <th>  Durbin-Watson:     </th> <td>   2.753</td>\n",
       "</tr>\n",
       "<tr>\n",
       "  <th>Prob(Omnibus):</th> <td> 0.508</td> <th>  Jarque-Bera (JB):  </th> <td>   0.556</td>\n",
       "</tr>\n",
       "<tr>\n",
       "  <th>Skew:</th>          <td> 0.209</td> <th>  Prob(JB):          </th> <td>   0.757</td>\n",
       "</tr>\n",
       "<tr>\n",
       "  <th>Kurtosis:</th>      <td> 3.399</td> <th>  Cond. No.          </th> <td>    406.</td>\n",
       "</tr>\n",
       "</table><br/><br/>Notes:<br/>[1] Standard Errors assume that the covariance matrix of the errors is correctly specified."
      ],
      "text/latex": "\\begin{center}\n\\begin{tabular}{lclc}\n\\toprule\n\\textbf{Dep. Variable:}                        & Entrepreneurship Index & \\textbf{  R-squared:         } &     0.852   \\\\\n\\textbf{Model:}                                &          OLS           & \\textbf{  Adj. R-squared:    } &     0.840   \\\\\n\\textbf{Method:}                               &     Least Squares      & \\textbf{  F-statistic:       } &     69.31   \\\\\n\\textbf{Date:}                                 &    Wed, 07 May 2025    & \\textbf{  Prob (F-statistic):} &  5.00e-15   \\\\\n\\textbf{Time:}                                 &        17:25:36        & \\textbf{  Log-Likelihood:    } &   -130.82   \\\\\n\\textbf{No. Observations:}                     &             40         & \\textbf{  AIC:               } &     269.6   \\\\\n\\textbf{Df Residuals:}                         &             36         & \\textbf{  BIC:               } &     276.4   \\\\\n\\textbf{Df Model:}                             &              3         & \\textbf{                     } &             \\\\\n\\textbf{Covariance Type:}                      &       nonrobust        & \\textbf{                     } &             \\\\\n\\bottomrule\n\\end{tabular}\n\\begin{tabular}{lcccccc}\n                                               & \\textbf{coef} & \\textbf{std err} & \\textbf{t} & \\textbf{P$> |$t$|$} & \\textbf{[0.025} & \\textbf{0.975]}  \\\\\n\\midrule\n\\textbf{const}                                 &      -2.3207  &        5.513     &    -0.421  &         0.676        &      -13.502    &        8.861     \\\\\n\\textbf{Women Entrepreneurship Index}          &       1.0724  &        0.092     &    11.644  &         0.000        &        0.886    &        1.259     \\\\\n\\textbf{Inflation rate}                        &       0.0969  &        0.210     &     0.461  &         0.648        &       -0.329    &        0.523     \\\\\n\\textbf{Female Labor Force Participation Rate} &      -0.0285  &        0.091     &    -0.312  &         0.757        &       -0.214    &        0.157     \\\\\n\\bottomrule\n\\end{tabular}\n\\begin{tabular}{lclc}\n\\textbf{Omnibus:}       &  1.354 & \\textbf{  Durbin-Watson:     } &    2.753  \\\\\n\\textbf{Prob(Omnibus):} &  0.508 & \\textbf{  Jarque-Bera (JB):  } &    0.556  \\\\\n\\textbf{Skew:}          &  0.209 & \\textbf{  Prob(JB):          } &    0.757  \\\\\n\\textbf{Kurtosis:}      &  3.399 & \\textbf{  Cond. No.          } &     406.  \\\\\n\\bottomrule\n\\end{tabular}\n%\\caption{OLS Regression Results}\n\\end{center}\n\nNotes: \\newline\n [1] Standard Errors assume that the covariance matrix of the errors is correctly specified."
     },
     "execution_count": 62,
     "metadata": {},
     "output_type": "execute_result"
    }
   ],
   "execution_count": 62
  },
  {
   "metadata": {
    "ExecuteTime": {
     "end_time": "2025-05-07T14:25:36.087047Z",
     "start_time": "2025-05-07T14:25:36.084779Z"
    }
   },
   "cell_type": "code",
   "source": [
    "X_test_sm = sm.add_constant(X_test)\n",
    "y_pred_lin = ols_model.predict(X_test_sm)"
   ],
   "id": "eaf41bfc42fd7475",
   "outputs": [],
   "execution_count": 63
  },
  {
   "metadata": {
    "ExecuteTime": {
     "end_time": "2025-05-07T14:25:36.104860Z",
     "start_time": "2025-05-07T14:25:36.102440Z"
    }
   },
   "cell_type": "code",
   "source": [
    "print(f\"R² Linear (test): {r2_score(y_test, y_pred_lin):.3f}\")\n",
    "print(f\"RMSE Linear (test): {np.sqrt(mean_squared_error(y_test, y_pred_lin)):.2f}\\n\")"
   ],
   "id": "e4b95ef33d407a41",
   "outputs": [
    {
     "name": "stdout",
     "output_type": "stream",
     "text": [
      "R² Linear (test): 0.757\n",
      "RMSE Linear (test): 6.61\n",
      "\n"
     ]
    }
   ],
   "execution_count": 64
  },
  {
   "metadata": {
    "ExecuteTime": {
     "end_time": "2025-05-07T14:25:36.205543Z",
     "start_time": "2025-05-07T14:25:36.121683Z"
    }
   },
   "cell_type": "code",
   "source": [
    "rf = RandomForestRegressor(n_estimators=200, random_state=42)\n",
    "rf.fit(X_train, y_train)\n",
    "y_pred_rf = rf.predict(X_test)"
   ],
   "id": "fa7cb99e27f48638",
   "outputs": [],
   "execution_count": 65
  },
  {
   "metadata": {
    "ExecuteTime": {
     "end_time": "2025-05-07T14:25:36.225841Z",
     "start_time": "2025-05-07T14:25:36.223192Z"
    }
   },
   "cell_type": "code",
   "source": [
    "print(f\"R² RF (test): {r2_score(y_test, y_pred_rf):.3f}\")\n",
    "print(f\"RMSE RF (test): {np.sqrt(mean_squared_error(y_test, y_pred_rf)):.2f}\\n\")"
   ],
   "id": "62b14bed03f05c4e",
   "outputs": [
    {
     "name": "stdout",
     "output_type": "stream",
     "text": [
      "R² RF (test): 0.515\n",
      "RMSE RF (test): 9.32\n",
      "\n"
     ]
    }
   ],
   "execution_count": 66
  },
  {
   "metadata": {
    "ExecuteTime": {
     "end_time": "2025-05-07T14:25:36.293019Z",
     "start_time": "2025-05-07T14:25:36.244481Z"
    }
   },
   "cell_type": "code",
   "source": [
    "feat_imp = pd.Series(rf.feature_importances_, index=X.columns).sort_values(ascending=False)\n",
    "plt.figure(figsize=(6, 4))\n",
    "sns.barplot(x=feat_imp.values, y=feat_imp.index)\n",
    "plt.title(\"Feature Importance (RF Regressor)\")\n",
    "plt.xlabel(\"Importance\")\n",
    "plt.tight_layout()\n",
    "plt.show()"
   ],
   "id": "1565d1dc15334e72",
   "outputs": [
    {
     "data": {
      "text/plain": [
       "<Figure size 600x400 with 1 Axes>"
      ],
      "image/png": "[encoded data removed]"
     },
     "metadata": {},
     "output_type": "display_data"
    }
   ],
   "execution_count": 67
  },
  {
   "metadata": {
    "ExecuteTime": {
     "end_time": "2025-05-07T14:25:36.312851Z",
     "start_time": "2025-05-07T14:25:36.310903Z"
    }
   },
   "cell_type": "code",
   "source": [
    "scenario = pd.DataFrame(\n",
    "    {\n",
    "        'Women Entrepreneurship Index': [20, 40, 60, 80],\n",
    "        'Inflation rate': [0, 2, 5, 10],\n",
    "        'Female Labor Force Participation Rate': X['Female Labor Force Participation Rate'].mean()\n",
    "    }\n",
    ")"
   ],
   "id": "e3473b82763ce8f2",
   "outputs": [],
   "execution_count": 68
  },
  {
   "metadata": {
    "ExecuteTime": {
     "end_time": "2025-05-07T14:25:36.332471Z",
     "start_time": "2025-05-07T14:25:36.330113Z"
    }
   },
   "cell_type": "code",
   "source": [
    "scenario_sm = sm.add_constant(scenario, has_constant='add')\n",
    "scenario['GEI_pred_linear'] = ols_model.predict(scenario_sm)"
   ],
   "id": "cba9f2d4625bb12",
   "outputs": [],
   "execution_count": 69
  },
  {
   "metadata": {
    "ExecuteTime": {
     "end_time": "2025-05-07T14:25:36.357831Z",
     "start_time": "2025-05-07T14:25:36.349180Z"
    }
   },
   "cell_type": "code",
   "source": [
    "scenario_rf = scenario[X.columns]\n",
    "scenario['GEI_pred_rf'] = rf.predict(scenario_rf)"
   ],
   "id": "c64bb887330e7183",
   "outputs": [],
   "execution_count": 70
  },
  {
   "metadata": {
    "ExecuteTime": {
     "end_time": "2025-05-07T14:25:36.377472Z",
     "start_time": "2025-05-07T14:25:36.374367Z"
    }
   },
   "cell_type": "code",
   "source": "scenario",
   "id": "9fa9b9841e9d6107",
   "outputs": [
    {
     "data": {
      "text/plain": [
       "   Women Entrepreneurship Index  Inflation rate  \\\n",
       "0                            20               0   \n",
       "1                            40               2   \n",
       "2                            60               5   \n",
       "3                            80              10   \n",
       "\n",
       "   Female Labor Force Participation Rate  GEI_pred_linear  GEI_pred_rf  \n",
       "0                              58.481765        17.462295      28.2235  \n",
       "1                              58.481765        39.104134      40.7615  \n",
       "2                              58.481765        60.842854      56.3055  \n",
       "3                              58.481765        82.775334      72.3385  "
      ],
      "text/html": [
       "<div>\n",
       "<style scoped>\n",
       "    .dataframe tbody tr th:only-of-type {\n",
       "        vertical-align: middle;\n",
       "    }\n",
       "\n",
       "    .dataframe tbody tr th {\n",
       "        vertical-align: top;\n",
       "    }\n",
       "\n",
       "    .dataframe thead th {\n",
       "        text-align: right;\n",
       "    }\n",
       "</style>\n",
       "<table border=\"1\" class=\"dataframe\">\n",
       "  <thead>\n",
       "    <tr style=\"text-align: right;\">\n",
       "      <th></th>\n",
       "      <th>Women Entrepreneurship Index</th>\n",
       "      <th>Inflation rate</th>\n",
       "      <th>Female Labor Force Participation Rate</th>\n",
       "      <th>GEI_pred_linear</th>\n",
       "      <th>GEI_pred_rf</th>\n",
       "    </tr>\n",
       "  </thead>\n",
       "  <tbody>\n",
       "    <tr>\n",
       "      <th>0</th>\n",
       "      <td>20</td>\n",
       "      <td>0</td>\n",
       "      <td>58.481765</td>\n",
       "      <td>17.462295</td>\n",
       "      <td>28.2235</td>\n",
       "    </tr>\n",
       "    <tr>\n",
       "      <th>1</th>\n",
       "      <td>40</td>\n",
       "      <td>2</td>\n",
       "      <td>58.481765</td>\n",
       "      <td>39.104134</td>\n",
       "      <td>40.7615</td>\n",
       "    </tr>\n",
       "    <tr>\n",
       "      <th>2</th>\n",
       "      <td>60</td>\n",
       "      <td>5</td>\n",
       "      <td>58.481765</td>\n",
       "      <td>60.842854</td>\n",
       "      <td>56.3055</td>\n",
       "    </tr>\n",
       "    <tr>\n",
       "      <th>3</th>\n",
       "      <td>80</td>\n",
       "      <td>10</td>\n",
       "      <td>58.481765</td>\n",
       "      <td>82.775334</td>\n",
       "      <td>72.3385</td>\n",
       "    </tr>\n",
       "  </tbody>\n",
       "</table>\n",
       "</div>"
      ]
     },
     "execution_count": 71,
     "metadata": {},
     "output_type": "execute_result"
    }
   ],
   "execution_count": 71
  }
 ],
 "metadata": {
  "kernelspec": {
   "display_name": "Python 3",
   "language": "python",
   "name": "python3"
  },
  "language_info": {
   "codemirror_mode": {
    "name": "ipython",
    "version": 2
   },
   "file_extension": ".py",
   "mimetype": "text/x-python",
   "name": "python",
   "nbconvert_exporter": "python",
   "pygments_lexer": "ipython2",
   "version": "2.7.6"
  }
 },
 "nbformat": 4,
 "nbformat_minor": 5
}
